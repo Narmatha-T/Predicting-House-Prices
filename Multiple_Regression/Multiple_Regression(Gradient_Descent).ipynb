{
  "nbformat": 4,
  "nbformat_minor": 0,
  "metadata": {
    "kernelspec": {
      "display_name": "Python 2",
      "language": "python",
      "name": "python2"
    },
    "language_info": {
      "codemirror_mode": {
        "name": "ipython",
        "version": 2
      },
      "file_extension": ".py",
      "mimetype": "text/x-python",
      "name": "python",
      "nbconvert_exporter": "python",
      "pygments_lexer": "ipython2",
      "version": "2.7.15"
    },
    "colab": {
      "name": "Multiple-Regression(Gradient-Descent).ipynb",
      "provenance": []
    }
  },
  "cells": [
    {
      "cell_type": "markdown",
      "metadata": {
        "id": "thi98NFcmoIF"
      },
      "source": [
        "# Regression Week 2: Multiple Regression (Gradient Descent)"
      ]
    },
    {
      "cell_type": "markdown",
      "metadata": {
        "id": "0YiO-YqUmoIH"
      },
      "source": [
        "In this notebook we will explore multiple regression using Turi Create along with numpy to solve for the regression weights with gradient descent.\n",
        "\n",
        "\n",
        "We will cover estimating multiple regression weights via gradient descent.\n",
        "* Add a constant column of 1's to a Turi Create SFrame to account for the intercept\n",
        "* Convert an SFrame into a Numpy array\n",
        "* Write a predict_output() function using Numpy\n",
        "* Write a numpy function to compute the derivative of the regression weights with respect to a single feature\n",
        "* Write gradient descent function to compute the regression weights given an initial weight vector, step size and tolerance.\n",
        "* Use the gradient descent function to estimate regression weights for multiple features"
      ]
    },
    {
      "cell_type": "markdown",
      "metadata": {
        "id": "bXA2rOEQmoIH"
      },
      "source": [
        "##To install turicreate or graphlab"
      ]
    },
    {
      "cell_type": "code",
      "metadata": {
        "id": "bKFxIx5DMeWH"
      },
      "source": [
        "!pip install turicreate"
      ],
      "execution_count": null,
      "outputs": []
    },
    {
      "cell_type": "code",
      "metadata": {
        "id": "8N-l5GpOMSh-"
      },
      "source": [
        "import turicreate as tc\r\n",
        "from google.colab import files"
      ],
      "execution_count": null,
      "outputs": []
    },
    {
      "cell_type": "code",
      "metadata": {
        "id": "ob43uW5vM7VW"
      },
      "source": [
        "uploaded = files.upload()\r\n",
        "!unzip home_data.sframe.zip"
      ],
      "execution_count": null,
      "outputs": []
    },
    {
      "cell_type": "markdown",
      "metadata": {
        "id": "07r6P5gPmoII"
      },
      "source": [
        "# Load in house sales data\n",
        "\n",
        "Dataset is from house sales in King County, the region where the city of Seattle, WA is located."
      ]
    },
    {
      "cell_type": "code",
      "metadata": {
        "id": "ccLwv5iomoIJ"
      },
      "source": [
        "sales = tc.SFrame('home_data.sframe/')"
      ],
      "execution_count": null,
      "outputs": []
    },
    {
      "cell_type": "markdown",
      "metadata": {
        "id": "xEYfNkNQQxe5"
      },
      "source": [
        "If we want to do any \"feature engineering\" like creating new features or adjusting existing ones we should do this directly using the SFrames."
      ]
    },
    {
      "cell_type": "markdown",
      "metadata": {
        "id": "J1_iIQfjmoIJ"
      },
      "source": [
        "# Convert to Numpy Array"
      ]
    },
    {
      "cell_type": "markdown",
      "metadata": {
        "id": "EDsMwNyAmoIJ"
      },
      "source": [
        "Although SFrames offer a number of benefits to users (especially when using Big Data and built-in Turi Create functions) in order to understand the details of the implementation of algorithms it's important to work with a library that allows for direct (and optimized) matrix operations. Numpy is a Python solution to work with matrices (or any multi-dimensional \"array\").\n",
        "\n",
        "Recall that the predicted value given the weights and the features is just the dot product between the feature and weight vector. Similarly, if we put all of the features row-by-row in a matrix then the predicted value for *all* the observations can be computed by right multiplying the \"feature matrix\" by the \"weight vector\". \n",
        "\n",
        "First we need to take the SFrame of our data and convert it into a 2D numpy array (also called a matrix). To do this we use Turi Create's built in .to_dataframe() which converts the SFrame into a Pandas (another python library) dataframe. We can then use Panda's .as_matrix() to convert the dataframe into a numpy matrix."
      ]
    },
    {
      "cell_type": "code",
      "metadata": {
        "id": "WTWdtRgomoIK"
      },
      "source": [
        "import numpy as np "
      ],
      "execution_count": null,
      "outputs": []
    },
    {
      "cell_type": "markdown",
      "metadata": {
        "id": "3Xsfd2G_moIK"
      },
      "source": [
        "Now we will write a function that will accept an SFrame, a list of feature names (e.g. ['sqft_living', 'bedrooms']) and an target feature e.g. ('price') and will return two things:\n",
        "* A numpy matrix whose columns are the desired features plus a constant column (this is how we create an 'intercept')\n",
        "* A numpy array containing the values of the output"
      ]
    },
    {
      "cell_type": "code",
      "metadata": {
        "id": "J5chzr6ZmoIK"
      },
      "source": [
        "def get_numpy_data(data_sframe, features, output):\n",
        "    data_sframe['constant'] = 1 # add a constant column to an SFrame\n",
        "    features = ['constant'] + features # combine two lists\n",
        "    features_sframe = data_sframe[features]\n",
        "    feature_matrix = features_sframe.to_numpy()\n",
        "    output_sarray = data_sframe[output]\n",
        "    output_array = output_sarray.to_numpy()\n",
        "    return(feature_matrix, output_array)"
      ],
      "execution_count": null,
      "outputs": []
    },
    {
      "cell_type": "markdown",
      "metadata": {
        "id": "CtgKlw6WmoIK"
      },
      "source": [
        "For testing let's use the 'sqft_living' feature and a constant as our features and price as our output:"
      ]
    },
    {
      "cell_type": "code",
      "metadata": {
        "colab": {
          "base_uri": "https://localhost:8080/"
        },
        "id": "jIfnmAPgmoIK",
        "outputId": "d1521c1a-57b7-45c5-cacd-7cf8f8b6e761"
      },
      "source": [
        "(example_features, example_output) = get_numpy_data(sales, ['sqft_living'], 'price') # the [] around 'sqft_living' makes it a list\n",
        "print example_features[0,:] # this accesses the first row of the data the ':' indicates 'all columns'\n",
        "print example_output[0] # and the corresponding output"
      ],
      "execution_count": null,
      "outputs": [
        {
          "output_type": "stream",
          "text": [
            "[1.00e+00 1.18e+03]\n",
            "221900.0\n"
          ],
          "name": "stdout"
        }
      ]
    },
    {
      "cell_type": "markdown",
      "metadata": {
        "id": "rxYVVHeHmoIL"
      },
      "source": [
        "# Predicting output given regression weights"
      ]
    },
    {
      "cell_type": "markdown",
      "metadata": {
        "id": "BTnduQicmoIL"
      },
      "source": [
        "Suppose we had the weights [1.0, 1.0] and the features [1.0, 1180.0] and we wanted to compute the predicted output 1.0\\*1.0 + 1.0\\*1180.0 = 1181.0 this is the dot product between these two arrays. If they're numpy arrayws we can use np.dot() to compute this:"
      ]
    },
    {
      "cell_type": "code",
      "metadata": {
        "colab": {
          "base_uri": "https://localhost:8080/"
        },
        "id": "MhqmOvYYmoIL",
        "outputId": "1430f5bc-db1e-44e4-a046-a7a56049047f"
      },
      "source": [
        "my_weights = np.array([1., 1.]) # the example weights\n",
        "my_features = example_features[0,] # we'll use the first data point\n",
        "predicted_value = np.dot(my_features, my_weights)\n",
        "print predicted_value"
      ],
      "execution_count": null,
      "outputs": [
        {
          "output_type": "stream",
          "text": [
            "1181.0\n"
          ],
          "name": "stdout"
        }
      ]
    },
    {
      "cell_type": "markdown",
      "metadata": {
        "id": "f9ss965dmoIL"
      },
      "source": [
        "np.dot() also works when dealing with a matrix and a vector. Recall that the predictions from all the observations is just the RIGHT (as in weights on the right) dot product between the features *matrix* and the weights *vector*. With this in mind finish the following predict_output function to compute the predictions for an entire matrix of features given the matrix and the weights:"
      ]
    },
    {
      "cell_type": "code",
      "metadata": {
        "id": "pppH9YPamoIL"
      },
      "source": [
        "def predict_output(feature_matrix, weights):\n",
        "    # assume feature_matrix is a numpy matrix containing the features as columns and weights is a corresponding numpy array\n",
        "    # create the predictions vector by using np.dot()\n",
        "    predictions = np.dot(feature_matrix, weights)\n",
        "    return(predictions)"
      ],
      "execution_count": null,
      "outputs": []
    },
    {
      "cell_type": "markdown",
      "metadata": {
        "id": "TUjV0ta5moIL"
      },
      "source": [
        "If you want to test your code run the following cell:"
      ]
    },
    {
      "cell_type": "code",
      "metadata": {
        "colab": {
          "base_uri": "https://localhost:8080/"
        },
        "id": "M5E3upcTmoIM",
        "outputId": "e982c843-6535-4005-8af7-09cfb2d474b3"
      },
      "source": [
        "test_predictions = predict_output(example_features, my_weights)\n",
        "print test_predictions[0] \n",
        "print test_predictions[1] "
      ],
      "execution_count": null,
      "outputs": [
        {
          "output_type": "stream",
          "text": [
            "1181.0\n",
            "2571.0\n"
          ],
          "name": "stdout"
        }
      ]
    },
    {
      "cell_type": "markdown",
      "metadata": {
        "id": "Xxek8LHtmoIM"
      },
      "source": [
        "# Computing the Derivative"
      ]
    },
    {
      "cell_type": "markdown",
      "metadata": {
        "id": "LhspmbyfmoIM"
      },
      "source": [
        "We are now going to move to computing the derivative of the regression cost function. Recall that the cost function is the sum over the data points of the squared difference between an observed output and a predicted output.\n",
        "\n",
        "Since the derivative of a sum is the sum of the derivatives we can compute the derivative for a single data point and then sum over data points. We can write the squared difference between the observed output and predicted output for a single point as follows:\n",
        "\n",
        "(w[0]\\*[CONSTANT] + w[1]\\*[feature_1] + ... + w[i] \\*[feature_i] + ... +  w[k]\\*[feature_k] - output)^2\n",
        "\n",
        "Where we have k features and a constant. So the derivative with respect to weight w[i] by the chain rule is:\n",
        "\n",
        "2\\*(w[0]\\*[CONSTANT] + w[1]\\*[feature_1] + ... + w[i] \\*[feature_i] + ... +  w[k]\\*[feature_k] - output)\\* [feature_i]\n",
        "\n",
        "The term inside the paranethesis is just the error (difference between prediction and output). So we can re-write this as:\n",
        "\n",
        "2\\*error\\*[feature_i]\n",
        "\n",
        "That is, the derivative for the weight for feature i is the sum (over data points) of 2 times the product of the error and the feature itself. In the case of the constant then this is just twice the sum of the errors!\n",
        "\n",
        "Recall that twice the sum of the product of two vectors is just twice the dot product of the two vectors. Therefore the derivative for the weight for feature_i is just two times the dot product between the values of feature_i and the current errors. \n"
      ]
    },
    {
      "cell_type": "code",
      "metadata": {
        "id": "6V8hrt4ymoIN"
      },
      "source": [
        "def feature_derivative(errors, feature):\n",
        "    # Assume that errors and feature are both numpy arrays of the same length (number of data points)\n",
        "    # compute twice the dot product of these vectors as 'derivative' and return the value\n",
        "    derivative = 2*np.dot(errors, feature)\n",
        "    return(derivative)"
      ],
      "execution_count": null,
      "outputs": []
    },
    {
      "cell_type": "markdown",
      "metadata": {
        "id": "BH8OcUM2moIN"
      },
      "source": [
        "To test your feature derivartive run the following:"
      ]
    },
    {
      "cell_type": "code",
      "metadata": {
        "colab": {
          "base_uri": "https://localhost:8080/"
        },
        "id": "7-xL4CUvmoIN",
        "outputId": "8ee90954-d8de-4af0-bd9a-083a1bb1bb27"
      },
      "source": [
        "(example_features, example_output) = get_numpy_data(sales, ['sqft_living'], 'price') \n",
        "my_weights = np.array([0., 0.]) # this makes all the predictions 0\n",
        "test_predictions = predict_output(example_features, my_weights) \n",
        "# just like SFrames 2 numpy arrays can be elementwise subtracted with '-': \n",
        "errors = test_predictions - example_output # prediction errors in this case is just the -example_output\n",
        "feature = example_features[:,0] # let's compute the derivative with respect to 'constant', the \":\" indicates \"all rows\"\n",
        "derivative = feature_derivative(errors, feature)\n",
        "print derivative\n",
        "print -np.sum(example_output)*2 # should be the same as derivative"
      ],
      "execution_count": null,
      "outputs": [
        {
          "output_type": "stream",
          "text": [
            "-23345850022.0\n",
            "-23345850022.0\n"
          ],
          "name": "stdout"
        }
      ]
    },
    {
      "cell_type": "markdown",
      "metadata": {
        "id": "lnbNIEXGmoIN"
      },
      "source": [
        "# Gradient Descent"
      ]
    },
    {
      "cell_type": "markdown",
      "metadata": {
        "id": "DRu2FC64moIN"
      },
      "source": [
        "Now we will write a function that performs a gradient descent. The basic premise is simple. Given a starting point we update the current weights by moving in the negative gradient direction. Recall that the gradient is the direction of *increase* and therefore the negative gradient is the direction of *decrease* and we're trying to *minimize* a cost function. \n",
        "\n",
        "The amount by which we move in the negative gradient *direction*  is called the 'step size'. We stop when we are 'sufficiently close' to the optimum. We define this by requiring that the magnitude (length) of the gradient vector to be smaller than a fixed 'tolerance'.\n"
      ]
    },
    {
      "cell_type": "code",
      "metadata": {
        "id": "nvhOw3bbmoIN"
      },
      "source": [
        "from math import sqrt # recall that the magnitude/length of a vector [g[0], g[1], g[2]] is sqrt(g[0]^2 + g[1]^2 + g[2]^2)"
      ],
      "execution_count": null,
      "outputs": []
    },
    {
      "cell_type": "code",
      "metadata": {
        "id": "eGgZXpZgmoIO"
      },
      "source": [
        "def regression_gradient_descent(feature_matrix, output, initial_weights, step_size, tolerance):\n",
        "    converged = False \n",
        "    weights = np.array(initial_weights) # make sure it's a numpy array\n",
        "    while not converged:\n",
        "        # compute the predictions based on feature_matrix and weights using your predict_output() function\n",
        "        predictions = predict_output(feature_matrix, weights)\n",
        "        # compute the errors as predictions - output\n",
        "        errors = predictions - output\n",
        "        gradient_sum_squares = 0 # initialize the gradient sum of squares\n",
        "        # while we haven't reached the tolerance yet, update each feature's weight\n",
        "        for i in range(len(weights)): # loop over each weight\n",
        "            # Recall that feature_matrix[:, i] is the feature column associated with weights[i]\n",
        "            # compute the derivative for weight[i]:\n",
        "            derivative = feature_derivative(errors, feature_matrix[:, i])\n",
        "            # add the squared value of the derivative to the gradient magnitude (for assessing convergence)\n",
        "            gradient_sum_squares += (derivative**2)\n",
        "            # subtract the step size times the derivative from the current weight\n",
        "            weights[i] -= (step_size * derivative)\n",
        "        # compute the square-root of the gradient sum of squares to get the gradient matnigude:\n",
        "        gradient_magnitude = sqrt(gradient_sum_squares)\n",
        "        if gradient_magnitude < tolerance:\n",
        "            converged = True\n",
        "    return(weights)"
      ],
      "execution_count": null,
      "outputs": []
    },
    {
      "cell_type": "markdown",
      "metadata": {
        "id": "lAiIFRXPmoIO"
      },
      "source": [
        "A few things to note before we run the gradient descent. Since the gradient is a sum over all the data points and involves a product of an error and a feature the gradient itself will be very large since the features are large (squarefeet) and the output is large (prices). So while you might expect \"tolerance\" to be small, small is only relative to the size of the features. \n",
        "\n",
        "For similar reasons the step size will be much smaller than you might expect but this is because the gradient has such large values."
      ]
    },
    {
      "cell_type": "markdown",
      "metadata": {
        "id": "395i_WWmmoIO"
      },
      "source": [
        "# Running the Gradient Descent as Simple Regression"
      ]
    },
    {
      "cell_type": "markdown",
      "metadata": {
        "id": "xivcm9dXmoIO"
      },
      "source": [
        "First let's split the data into training and test data."
      ]
    },
    {
      "cell_type": "code",
      "metadata": {
        "id": "qg7OrmWimoIO"
      },
      "source": [
        "train_data,test_data = sales.random_split(.8,seed=0)"
      ],
      "execution_count": null,
      "outputs": []
    },
    {
      "cell_type": "markdown",
      "metadata": {
        "id": "NbHwEVRNmoIP"
      },
      "source": [
        "Although the gradient descent is designed for multiple regression since the constant is now a feature we can use the gradient descent function to estimate the parameters in the simple regression on squarefeet. The folowing cell sets up the feature_matrix, output, initial weights and step size for the first model:"
      ]
    },
    {
      "cell_type": "code",
      "metadata": {
        "id": "VDL_dxXxmoIP"
      },
      "source": [
        "# let's test out the gradient descent\n",
        "simple_features = ['sqft_living']\n",
        "my_output = 'price'\n",
        "(simple_feature_matrix, output) = get_numpy_data(train_data, simple_features, my_output)\n",
        "initial_weights = np.array([-47000., 1.])\n",
        "step_size = 7e-12\n",
        "tolerance = 2.5e7"
      ],
      "execution_count": null,
      "outputs": []
    },
    {
      "cell_type": "markdown",
      "metadata": {
        "id": "OCupNwE9moIP"
      },
      "source": [
        "Next run your gradient descent with the above parameters."
      ]
    },
    {
      "cell_type": "code",
      "metadata": {
        "colab": {
          "base_uri": "https://localhost:8080/"
        },
        "id": "vLBqQ-a2moIP",
        "outputId": "4fd6c84d-c396-4664-e169-e7a444c53047"
      },
      "source": [
        "test_weight = regression_gradient_descent(simple_feature_matrix, output, initial_weights, step_size, tolerance)\r\n",
        "print test_weight"
      ],
      "execution_count": null,
      "outputs": [
        {
          "output_type": "stream",
          "text": [
            "[-46999.88716555    281.91211912]\n"
          ],
          "name": "stdout"
        }
      ]
    },
    {
      "cell_type": "markdown",
      "metadata": {
        "id": "WfG0JkXTmoIP"
      },
      "source": [
        "What is the value of the weight for sqft_living -- the second element of ‘simple_weights’ (rounded to 1 decimal place)?\r\n",
        "Using newly estimated weights and your predict_output() function to compute the predictions on all the TEST data (you will need to create a numpy array of the test feature_matrix and test output first:"
      ]
    },
    {
      "cell_type": "code",
      "metadata": {
        "id": "mQMIo4JGmoIQ"
      },
      "source": [
        "(test_simple_feature_matrix, test_output) = get_numpy_data(test_data, simple_features, my_output)"
      ],
      "execution_count": null,
      "outputs": []
    },
    {
      "cell_type": "markdown",
      "metadata": {
        "id": "Vzvl5Fy-moIQ"
      },
      "source": [
        "Now compute your predictions using test_simple_feature_matrix and your weights from above."
      ]
    },
    {
      "cell_type": "code",
      "metadata": {
        "colab": {
          "base_uri": "https://localhost:8080/"
        },
        "id": "RLR2DTSsmoIQ",
        "outputId": "d8f5da94-1441-4919-b388-be93196bd94b"
      },
      "source": [
        "test_predictions = predict_output(test_simple_feature_matrix, test_weight)\r\n",
        "print test_predictions"
      ],
      "execution_count": null,
      "outputs": [
        {
          "output_type": "stream",
          "text": [
            "[356134.44317093 784640.86422788 435069.83652353 ... 663418.65300782\n",
            " 604217.10799338 240550.4743332 ]\n"
          ],
          "name": "stdout"
        }
      ]
    },
    {
      "cell_type": "markdown",
      "metadata": {
        "id": "ZixRoB3GmoIQ"
      },
      "source": [
        "What is the predicted price for the 1st house in the TEST data set for model 1 (round to nearest dollar)?"
      ]
    },
    {
      "cell_type": "code",
      "metadata": {
        "colab": {
          "base_uri": "https://localhost:8080/"
        },
        "id": "QgUlgGi2moIQ",
        "outputId": "39abf43c-2d7c-4ba9-c30f-45a465b8041d"
      },
      "source": [
        "print test_predictions[0]"
      ],
      "execution_count": null,
      "outputs": [
        {
          "output_type": "stream",
          "text": [
            "356134.4431709297\n"
          ],
          "name": "stdout"
        }
      ]
    },
    {
      "cell_type": "markdown",
      "metadata": {
        "id": "yb45jkSJmoIQ"
      },
      "source": [
        "Now that you have the predictions on test data, compute the RSS on the test data set. Save this value for comparison later. Recall that RSS is the sum of the squared errors (difference between prediction and output)."
      ]
    },
    {
      "cell_type": "code",
      "metadata": {
        "colab": {
          "base_uri": "https://localhost:8080/"
        },
        "id": "cHhnGHc4moIQ",
        "outputId": "f8781790-d75f-47bc-8fca-d2d47cf3c8bf"
      },
      "source": [
        "test_residuals = test_output - test_predictions\r\n",
        "test_RSS = (test_residuals * test_residuals).sum()\r\n",
        "print test_RSS"
      ],
      "execution_count": null,
      "outputs": [
        {
          "output_type": "stream",
          "text": [
            "275400047593155.94\n"
          ],
          "name": "stdout"
        }
      ]
    },
    {
      "cell_type": "markdown",
      "metadata": {
        "id": "UqTVBXhzmoIQ"
      },
      "source": [
        "# Running a multiple regression"
      ]
    },
    {
      "cell_type": "markdown",
      "metadata": {
        "id": "uYbTNwMKmoIQ"
      },
      "source": [
        "Now we will use more than one actual feature. Use the following code to produce the weights for a second model with the following parameters:"
      ]
    },
    {
      "cell_type": "code",
      "metadata": {
        "id": "WXJ7UlsBmoIR"
      },
      "source": [
        "model_features = ['sqft_living', 'sqft_living15'] # sqft_living15 is the average squarefeet for the nearest 15 neighbors. \n",
        "my_output = 'price'\n",
        "(feature_matrix, output) = get_numpy_data(train_data, model_features, my_output)\n",
        "initial_weights = np.array([-100000., 1., 1.])\n",
        "step_size = 4e-12\n",
        "tolerance = 1e9"
      ],
      "execution_count": null,
      "outputs": []
    },
    {
      "cell_type": "markdown",
      "metadata": {
        "id": "lQTrjLnXmoIR"
      },
      "source": [
        "Use the above parameters to estimate the model weights. Record these values for your quiz."
      ]
    },
    {
      "cell_type": "code",
      "metadata": {
        "colab": {
          "base_uri": "https://localhost:8080/"
        },
        "id": "0tU6F6wfmoIR",
        "outputId": "e5a37211-1c45-417e-83d4-4eac3d998da2"
      },
      "source": [
        "weight_2 = regression_gradient_descent(feature_matrix, output, initial_weights, step_size, tolerance)\r\n",
        "print weight_2"
      ],
      "execution_count": null,
      "outputs": [
        {
          "output_type": "stream",
          "text": [
            "[-9.99999688e+04  2.45072603e+02  6.52795277e+01]\n"
          ],
          "name": "stdout"
        }
      ]
    },
    {
      "cell_type": "markdown",
      "metadata": {
        "id": "GZbwc55LmoIR"
      },
      "source": [
        "Use your newly estimated weights and the predict_output function to compute the predictions on the TEST data. Don't forget to create a numpy array for these features from the test set first!"
      ]
    },
    {
      "cell_type": "code",
      "metadata": {
        "colab": {
          "base_uri": "https://localhost:8080/"
        },
        "id": "kRjiSMyxmoIR",
        "outputId": "b8a0ecfc-b434-4515-eebc-f347191c9c7e"
      },
      "source": [
        "(test_feature_matrix, test_output) = get_numpy_data(test_data, model_features, my_output)\r\n",
        "\r\n",
        "test_predictions_2 = predict_output(test_feature_matrix, weight_2)\r\n",
        "print test_predictions_2"
      ],
      "execution_count": null,
      "outputs": [
        {
          "output_type": "stream",
          "text": [
            "[366651.41203656 762662.39786164 386312.09499712 ... 682087.39928241\n",
            " 585579.27865729 216559.20396617]\n"
          ],
          "name": "stdout"
        }
      ]
    },
    {
      "cell_type": "markdown",
      "metadata": {
        "id": "M0FJD5bmmoIR"
      },
      "source": [
        "What is the predicted price for the 1st house in the TEST data set for model 2 (round to nearest dollar)?"
      ]
    },
    {
      "cell_type": "code",
      "metadata": {
        "colab": {
          "base_uri": "https://localhost:8080/"
        },
        "id": "994h0CxdmoIR",
        "outputId": "1e94fbd3-edd6-41d0-8e90-df688e469c52"
      },
      "source": [
        "print test_predictions_2[0]"
      ],
      "execution_count": null,
      "outputs": [
        {
          "output_type": "stream",
          "text": [
            "366651.41203655914\n"
          ],
          "name": "stdout"
        }
      ]
    },
    {
      "cell_type": "markdown",
      "metadata": {
        "id": "-_dL1XjomoIR"
      },
      "source": [
        "What is the actual price for the 1st house in the test data set?"
      ]
    },
    {
      "cell_type": "code",
      "metadata": {
        "colab": {
          "base_uri": "https://localhost:8080/"
        },
        "id": "3PtN5GElmoIS",
        "outputId": "76c24690-6d6a-47bd-9ca9-6db5e2ac066b"
      },
      "source": [
        "print test_data['price'][0]"
      ],
      "execution_count": null,
      "outputs": [
        {
          "output_type": "stream",
          "text": [
            "310000.0\n"
          ],
          "name": "stdout"
        }
      ]
    },
    {
      "cell_type": "markdown",
      "metadata": {
        "id": "huMwInTmmoIS"
      },
      "source": [
        "Which estimate was closer to the true price for the 1st house on the TEST data set, model 1 or model 2?"
      ]
    },
    {
      "cell_type": "markdown",
      "metadata": {
        "id": "oHVHYKTVmoIS"
      },
      "source": [
        "Now use your predictions and the output to compute the RSS for model 2 on TEST data."
      ]
    },
    {
      "cell_type": "code",
      "metadata": {
        "colab": {
          "base_uri": "https://localhost:8080/"
        },
        "id": "Qp8Wk8HDmoIS",
        "outputId": "9efc00d8-a8ba-4e50-d663-d3ffb1ce42a7"
      },
      "source": [
        "test_residuals_2 = test_output - test_predictions_2\r\n",
        "test_RSS_2 = (test_residuals_2**2).sum()\r\n",
        "print test_RSS_2"
      ],
      "execution_count": null,
      "outputs": [
        {
          "output_type": "stream",
          "text": [
            "270263446465244.06\n"
          ],
          "name": "stdout"
        }
      ]
    },
    {
      "cell_type": "markdown",
      "metadata": {
        "id": "tbq28ML3moIS"
      },
      "source": [
        "Which model (1 or 2) has lowest RSS on all of the TEST data?"
      ]
    }
  ]
}