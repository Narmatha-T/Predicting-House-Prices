{
  "nbformat": 4,
  "nbformat_minor": 0,
  "metadata": {
    "kernelspec": {
      "display_name": "Python 2",
      "language": "python",
      "name": "python2"
    },
    "language_info": {
      "codemirror_mode": {
        "name": "ipython",
        "version": 2
      },
      "file_extension": ".py",
      "mimetype": "text/x-python",
      "name": "python",
      "nbconvert_exporter": "python",
      "pygments_lexer": "ipython2",
      "version": "2.7.15"
    },
    "colab": {
      "name": "Multiple-Regression(Interpretation).ipynb",
      "provenance": [],
      "collapsed_sections": []
    }
  },
  "cells": [
    {
      "cell_type": "markdown",
      "metadata": {
        "id": "3j3HRisyMSh2"
      },
      "source": [
        "# Regression Week 2: Multiple Regression (Interpretation)"
      ]
    },
    {
      "cell_type": "markdown",
      "metadata": {
        "id": "RRsC2Gi7MSh7"
      },
      "source": [
        "In this notebook we will explore multiple regression and feature engineering with existing Turi Create functions.\n",
        "\n",
        "We you will use data on house sales in King County to predict prices using multiple regression. We will:\n",
        "\n",
        "\n",
        "\n",
        "* Use SFrames to do some feature engineering\n",
        "* Use built-in Turi Create functions to compute the regression weights (coefficients/parameters)\n",
        "* Given the regression weights, predictors and outcome write a function to compute the Residual Sum of Squares\n",
        "* Look at coefficients and interpret their meanings\n",
        "* Evaluate multiple models via RSS"
      ]
    },
    {
      "cell_type": "markdown",
      "metadata": {
        "id": "moNwqe2iMSh8"
      },
      "source": [
        "##To install turicreate or graphlab"
      ]
    },
    {
      "cell_type": "code",
      "metadata": {
        "id": "bKFxIx5DMeWH"
      },
      "source": [
        "!pip install turicreate"
      ],
      "execution_count": null,
      "outputs": []
    },
    {
      "cell_type": "code",
      "metadata": {
        "id": "8N-l5GpOMSh-"
      },
      "source": [
        "import turicreate as tc\r\n",
        "from google.colab import files"
      ],
      "execution_count": null,
      "outputs": []
    },
    {
      "cell_type": "code",
      "metadata": {
        "id": "ob43uW5vM7VW"
      },
      "source": [
        "uploaded = files.upload()\r\n",
        "!unzip home_data.sframe.zip"
      ],
      "execution_count": null,
      "outputs": []
    },
    {
      "cell_type": "markdown",
      "metadata": {
        "id": "PcW__73zMSh_"
      },
      "source": [
        "# Load in house sales data\n",
        "\n",
        "Dataset is from house sales in King County, the region where the city of Seattle, WA is located."
      ]
    },
    {
      "cell_type": "code",
      "metadata": {
        "scrolled": true,
        "id": "NjMXVKalMSiB"
      },
      "source": [
        "sales = tc.SFrame('home_data.sframe/')"
      ],
      "execution_count": null,
      "outputs": []
    },
    {
      "cell_type": "markdown",
      "metadata": {
        "id": "OYN0iJFAMSiC"
      },
      "source": [
        "# Split data into training and testing.\n",
        "We use seed=0 so that everyone running this notebook gets the same results.  In practice, you may set a random seed (or let Turi Create pick a random seed for you).  "
      ]
    },
    {
      "cell_type": "code",
      "metadata": {
        "id": "biyDl_WoMSiD"
      },
      "source": [
        "train_data,test_data = sales.random_split(.8,seed=0)"
      ],
      "execution_count": null,
      "outputs": []
    },
    {
      "cell_type": "markdown",
      "metadata": {
        "id": "ZemNj4XTMSiE"
      },
      "source": [
        "# Learning a multiple regression model"
      ]
    },
    {
      "cell_type": "markdown",
      "metadata": {
        "id": "7kvCFg45MSiF"
      },
      "source": [
        "Recall we can use the following code to learn a multiple regression model predicting 'price' based on the following features:\n",
        "example_features = ['sqft_living', 'bedrooms', 'bathrooms'] on training data.\n",
        "\n"
      ]
    },
    {
      "cell_type": "code",
      "metadata": {
        "colab": {
          "base_uri": "https://localhost:8080/",
          "height": 252
        },
        "id": "mjwGeSsNMSiG",
        "outputId": "4ed9e5dd-6c56-483c-d1a9-5f712087df7a"
      },
      "source": [
        "example_features = ['sqft_living', 'bedrooms', 'bathrooms']\n",
        "example_model = tc.linear_regression.create(train_data, target = 'price', features = example_features, \n",
        "                                                    validation_set = None)"
      ],
      "execution_count": null,
      "outputs": [
        {
          "output_type": "display_data",
          "data": {
            "text/plain": [
              "Linear regression:"
            ],
            "text/html": [
              "<pre>Linear regression:</pre>"
            ]
          },
          "metadata": {
            "tags": []
          }
        },
        {
          "output_type": "display_data",
          "data": {
            "text/plain": [
              "--------------------------------------------------------"
            ],
            "text/html": [
              "<pre>--------------------------------------------------------</pre>"
            ]
          },
          "metadata": {
            "tags": []
          }
        },
        {
          "output_type": "display_data",
          "data": {
            "text/plain": [
              "Number of examples          : 17384"
            ],
            "text/html": [
              "<pre>Number of examples          : 17384</pre>"
            ]
          },
          "metadata": {
            "tags": []
          }
        },
        {
          "output_type": "display_data",
          "data": {
            "text/plain": [
              "Number of features          : 3"
            ],
            "text/html": [
              "<pre>Number of features          : 3</pre>"
            ]
          },
          "metadata": {
            "tags": []
          }
        },
        {
          "output_type": "display_data",
          "data": {
            "text/plain": [
              "Number of unpacked features : 3"
            ],
            "text/html": [
              "<pre>Number of unpacked features : 3</pre>"
            ]
          },
          "metadata": {
            "tags": []
          }
        },
        {
          "output_type": "display_data",
          "data": {
            "text/plain": [
              "Number of coefficients    : 4"
            ],
            "text/html": [
              "<pre>Number of coefficients    : 4</pre>"
            ]
          },
          "metadata": {
            "tags": []
          }
        },
        {
          "output_type": "display_data",
          "data": {
            "text/plain": [
              "Starting Newton Method"
            ],
            "text/html": [
              "<pre>Starting Newton Method</pre>"
            ]
          },
          "metadata": {
            "tags": []
          }
        },
        {
          "output_type": "display_data",
          "data": {
            "text/plain": [
              "--------------------------------------------------------"
            ],
            "text/html": [
              "<pre>--------------------------------------------------------</pre>"
            ]
          },
          "metadata": {
            "tags": []
          }
        },
        {
          "output_type": "display_data",
          "data": {
            "text/plain": [
              "+-----------+----------+--------------+--------------------+---------------------------------+"
            ],
            "text/html": [
              "<pre>+-----------+----------+--------------+--------------------+---------------------------------+</pre>"
            ]
          },
          "metadata": {
            "tags": []
          }
        },
        {
          "output_type": "display_data",
          "data": {
            "text/plain": [
              "| Iteration | Passes   | Elapsed Time | Training Max Error | Training Root-Mean-Square Error |"
            ],
            "text/html": [
              "<pre>| Iteration | Passes   | Elapsed Time | Training Max Error | Training Root-Mean-Square Error |</pre>"
            ]
          },
          "metadata": {
            "tags": []
          }
        },
        {
          "output_type": "display_data",
          "data": {
            "text/plain": [
              "+-----------+----------+--------------+--------------------+---------------------------------+"
            ],
            "text/html": [
              "<pre>+-----------+----------+--------------+--------------------+---------------------------------+</pre>"
            ]
          },
          "metadata": {
            "tags": []
          }
        },
        {
          "output_type": "display_data",
          "data": {
            "text/plain": [
              "| 1         | 2        | 1.010823     | 4146407.600631     | 258679.804477                   |"
            ],
            "text/html": [
              "<pre>| 1         | 2        | 1.010823     | 4146407.600631     | 258679.804477                   |</pre>"
            ]
          },
          "metadata": {
            "tags": []
          }
        },
        {
          "output_type": "display_data",
          "data": {
            "text/plain": [
              "+-----------+----------+--------------+--------------------+---------------------------------+"
            ],
            "text/html": [
              "<pre>+-----------+----------+--------------+--------------------+---------------------------------+</pre>"
            ]
          },
          "metadata": {
            "tags": []
          }
        },
        {
          "output_type": "display_data",
          "data": {
            "text/plain": [
              "SUCCESS: Optimal solution found."
            ],
            "text/html": [
              "<pre>SUCCESS: Optimal solution found.</pre>"
            ]
          },
          "metadata": {
            "tags": []
          }
        },
        {
          "output_type": "display_data",
          "data": {
            "text/plain": [
              ""
            ],
            "text/html": [
              "<pre></pre>"
            ]
          },
          "metadata": {
            "tags": []
          }
        }
      ]
    },
    {
      "cell_type": "markdown",
      "metadata": {
        "id": "O9qapJVxMSiH"
      },
      "source": [
        "Now that we have fitted the model we can extract the regression weights (coefficients) as an SFrame."
      ]
    },
    {
      "cell_type": "code",
      "metadata": {
        "colab": {
          "base_uri": "https://localhost:8080/"
        },
        "id": "bqTxI3kQMSiI",
        "outputId": "bc7aee2d-4609-4f11-855a-a2347e1de0cb"
      },
      "source": [
        "example_weight_summary = example_model.coefficients\n",
        "print example_weight_summary"
      ],
      "execution_count": null,
      "outputs": [
        {
          "output_type": "stream",
          "text": [
            "+-------------+-------+----------------+---------------+\n",
            "|     name    | index |     value      |     stderr    |\n",
            "+-------------+-------+----------------+---------------+\n",
            "| (intercept) |  None | 87910.0724924  |  7873.3381434 |\n",
            "| sqft_living |  None | 315.403440552  | 3.45570032585 |\n",
            "|   bedrooms  |  None | -65080.2155528 | 2717.45685442 |\n",
            "|  bathrooms  |  None | 6944.02019264  | 3923.11493144 |\n",
            "+-------------+-------+----------------+---------------+\n",
            "[4 rows x 4 columns]\n",
            "\n"
          ],
          "name": "stdout"
        }
      ]
    },
    {
      "cell_type": "markdown",
      "metadata": {
        "id": "dJU97QOcMSiJ"
      },
      "source": [
        "# Making Predictions\n",
        "\n"
      ]
    },
    {
      "cell_type": "code",
      "metadata": {
        "colab": {
          "base_uri": "https://localhost:8080/"
        },
        "id": "ChSdMoU9MSiK",
        "outputId": "8a5702ba-c3ac-4190-dcd8-7d7bf0fe4bdb"
      },
      "source": [
        "example_predictions = example_model.predict(train_data)\n",
        "print example_predictions[0] "
      ],
      "execution_count": null,
      "outputs": [
        {
          "output_type": "stream",
          "text": [
            "271789.505878\n"
          ],
          "name": "stdout"
        }
      ]
    },
    {
      "cell_type": "markdown",
      "metadata": {
        "id": "0gE1fGV2MSiL"
      },
      "source": [
        "# Compute RSS"
      ]
    },
    {
      "cell_type": "markdown",
      "metadata": {
        "id": "eukGQzsUMSiM"
      },
      "source": [
        "Now that we can make predictions given the model, let's write a function to compute the RSS of the model. The function below is to calculate RSS given the model, data, and the outcome."
      ]
    },
    {
      "cell_type": "code",
      "metadata": {
        "id": "gW6Hv6TrMSiM"
      },
      "source": [
        "def get_residual_sum_of_squares(model, data, outcome):\n",
        "    predictions = model.predict(data)\n",
        "    residuals = outcome - predictions\n",
        "    RSS = (residuals * residuals).sum()\n",
        "    return(RSS)    "
      ],
      "execution_count": null,
      "outputs": []
    },
    {
      "cell_type": "markdown",
      "metadata": {
        "id": "9oIEagraMSiN"
      },
      "source": [
        "Test your function by computing the RSS on TEST data for the example model:"
      ]
    },
    {
      "cell_type": "code",
      "metadata": {
        "colab": {
          "base_uri": "https://localhost:8080/"
        },
        "id": "LAeF7pmdMSiO",
        "outputId": "f923454a-eabb-4a49-df25-5a96ddec51c6"
      },
      "source": [
        "rss_example_train = get_residual_sum_of_squares(example_model, test_data, test_data['price'])\n",
        "print (rss_example_train) "
      ],
      "execution_count": null,
      "outputs": [
        {
          "output_type": "stream",
          "text": [
            "2.7376153833e+14\n"
          ],
          "name": "stdout"
        }
      ]
    },
    {
      "cell_type": "markdown",
      "metadata": {
        "id": "ivsyAKLwMSiP"
      },
      "source": [
        "# Create some new features"
      ]
    },
    {
      "cell_type": "markdown",
      "metadata": {
        "id": "dW_Tx8ldMSiQ"
      },
      "source": [
        "Although we often think of multiple regression as including multiple different features (e.g. # of bedrooms, squarefeet, and # of bathrooms) but we can also consider transformations of existing features e.g. the log of the squarefeet or even \"interaction\" features such as the product of bedrooms and bathrooms."
      ]
    },
    {
      "cell_type": "markdown",
      "metadata": {
        "id": "HtF_e1IgMSiR"
      },
      "source": [
        "You will use the logarithm function to create a new feature. so first you should import it from the math library."
      ]
    },
    {
      "cell_type": "code",
      "metadata": {
        "id": "-uSpEeOYMSiR"
      },
      "source": [
        "from math import log"
      ],
      "execution_count": null,
      "outputs": []
    },
    {
      "cell_type": "markdown",
      "metadata": {
        "id": "HvJ_GKCpMSiS"
      },
      "source": [
        "Next create the following 4 new features as column in both TEST and TRAIN data:\n",
        "* bedrooms_squared = bedrooms\\*bedrooms\n",
        "* bed_bath_rooms = bedrooms\\*bathrooms\n",
        "* log_sqft_living = log(sqft_living)\n",
        "* lat_plus_long = lat + long \n",
        "As an example here's the first one:"
      ]
    },
    {
      "cell_type": "code",
      "metadata": {
        "id": "pCAgk0mdMSiT"
      },
      "source": [
        "train_data['bedrooms_squared'] = train_data['bedrooms'].apply(lambda x: x**2)\n",
        "test_data['bedrooms_squared'] = test_data['bedrooms'].apply(lambda x: x**2)"
      ],
      "execution_count": null,
      "outputs": []
    },
    {
      "cell_type": "code",
      "metadata": {
        "id": "JESddtMYMSiU"
      },
      "source": [
        "# create the remaining 3 features in both TEST and TRAIN data\n",
        "train_data['bed_bath_rooms'] = train_data['bedrooms'] * train_data['bathrooms']\n",
        "test_data['bed_bath_rooms'] = test_data['bedrooms'] * test_data['bathrooms']\n",
        "\n",
        "train_data['log_sqft_living'] = train_data['sqft_living'].apply(lambda x: log(x))\n",
        "test_data['log_sqft_living'] = test_data['sqft_living'].apply(lambda x: log(x))\n",
        "\n",
        "train_data['lat_plus_long'] = train_data['lat'] + train_data['long']\n",
        "test_data['lat_plus_long'] = test_data['lat'] + test_data['long']"
      ],
      "execution_count": null,
      "outputs": []
    },
    {
      "cell_type": "markdown",
      "metadata": {
        "id": "jrM4ynpUMSiU"
      },
      "source": [
        "* Squaring bedrooms will increase the separation between not many bedrooms (e.g. 1) and lots of bedrooms (e.g. 4) since 1^2 = 1 but 4^2 = 16. Consequently this feature will mostly affect houses with many bedrooms.\n",
        "* bedrooms times bathrooms gives what's called an \"interaction\" feature. It is large when *both* of them are large.\n",
        "* Taking the log of squarefeet has the effect of bringing large values closer together and spreading out small values.\n",
        "* Adding latitude to longitude is totally non-sensical but we will do it anyway (you'll see why)"
      ]
    },
    {
      "cell_type": "markdown",
      "metadata": {
        "id": "pabiFCl-MSiV"
      },
      "source": [
        "What is the mean (arithmetic average) value of your 4 new features on TEST data? (round to 2 digits)"
      ]
    },
    {
      "cell_type": "code",
      "metadata": {
        "colab": {
          "base_uri": "https://localhost:8080/",
          "height": 442
        },
        "id": "CPQsiZiTMSiW",
        "outputId": "d12f58d5-0ac3-42c5-efae-74460a7721ee"
      },
      "source": [
        "train_data[['bedrooms','bathrooms','lat','long','bedrooms_squared','bed_bath_rooms','log_sqft_living','lat_plus_long']].head()"
      ],
      "execution_count": null,
      "outputs": [
        {
          "output_type": "execute_result",
          "data": {
            "text/plain": [
              "Columns:\n",
              "\tbedrooms\tfloat\n",
              "\tbathrooms\tfloat\n",
              "\tlat\tfloat\n",
              "\tlong\tfloat\n",
              "\tbedrooms_squared\tfloat\n",
              "\tbed_bath_rooms\tfloat\n",
              "\tlog_sqft_living\tfloat\n",
              "\tlat_plus_long\tfloat\n",
              "\n",
              "Rows: 10\n",
              "\n",
              "Data:\n",
              "+----------+-----------+-------------+---------------+------------------+----------------+\n",
              "| bedrooms | bathrooms |     lat     |      long     | bedrooms_squared | bed_bath_rooms |\n",
              "+----------+-----------+-------------+---------------+------------------+----------------+\n",
              "|   3.0    |    1.0    | 47.51123398 | -122.25677536 |       9.0        |      3.0       |\n",
              "|   3.0    |    2.25   | 47.72102274 |  -122.3188624 |       9.0        |      6.75      |\n",
              "|   2.0    |    1.0    | 47.73792661 | -122.23319601 |       4.0        |      2.0       |\n",
              "|   4.0    |    3.0    |   47.52082  | -122.39318505 |       16.0       |      12.0      |\n",
              "|   3.0    |    2.0    | 47.61681228 | -122.04490059 |       9.0        |      6.0       |\n",
              "|   4.0    |    4.5    | 47.65611835 | -122.00528655 |       16.0       |      18.0      |\n",
              "|   3.0    |    2.25   | 47.30972002 | -122.32704857 |       9.0        |      6.75      |\n",
              "|   3.0    |    1.5    | 47.40949984 | -122.31457273 |       9.0        |      4.5       |\n",
              "|   3.0    |    1.0    | 47.51229381 | -122.33659507 |       9.0        |      3.0       |\n",
              "|   3.0    |    2.5    | 47.36840673 |  -122.0308176 |       9.0        |      7.5       |\n",
              "+----------+-----------+-------------+---------------+------------------+----------------+\n",
              "+-----------------+---------------+\n",
              "| log_sqft_living | lat_plus_long |\n",
              "+-----------------+---------------+\n",
              "|  7.07326971746  |  -74.74554138 |\n",
              "|  7.85166117789  |  -74.59783966 |\n",
              "|  6.64639051485  |  -74.4952694  |\n",
              "|  7.58069975222  |  -74.87236505 |\n",
              "|   7.4265490724  |  -74.42808831 |\n",
              "|  8.59785109443  |  -74.3491682  |\n",
              "|   7.4471683596  |  -75.01732855 |\n",
              "|  6.96602418711  |  -74.90507289 |\n",
              "|  7.48436864329  |  -74.82430126 |\n",
              "|  7.54433210805  |  -74.66241087 |\n",
              "+-----------------+---------------+\n",
              "[10 rows x 8 columns]"
            ],
            "text/html": [
              "<div style=\"max-height:1000px;max-width:1500px;overflow:auto;\"><table frame=\"box\" rules=\"cols\">\n",
              "    <tr>\n",
              "        <th style=\"padding-left: 1em; padding-right: 1em; text-align: center\">bedrooms</th>\n",
              "        <th style=\"padding-left: 1em; padding-right: 1em; text-align: center\">bathrooms</th>\n",
              "        <th style=\"padding-left: 1em; padding-right: 1em; text-align: center\">lat</th>\n",
              "        <th style=\"padding-left: 1em; padding-right: 1em; text-align: center\">long</th>\n",
              "        <th style=\"padding-left: 1em; padding-right: 1em; text-align: center\">bedrooms_squared</th>\n",
              "        <th style=\"padding-left: 1em; padding-right: 1em; text-align: center\">bed_bath_rooms</th>\n",
              "        <th style=\"padding-left: 1em; padding-right: 1em; text-align: center\">log_sqft_living</th>\n",
              "    </tr>\n",
              "    <tr>\n",
              "        <td style=\"padding-left: 1em; padding-right: 1em; text-align: center; vertical-align: top\">3.0</td>\n",
              "        <td style=\"padding-left: 1em; padding-right: 1em; text-align: center; vertical-align: top\">1.0</td>\n",
              "        <td style=\"padding-left: 1em; padding-right: 1em; text-align: center; vertical-align: top\">47.51123398</td>\n",
              "        <td style=\"padding-left: 1em; padding-right: 1em; text-align: center; vertical-align: top\">-122.25677536</td>\n",
              "        <td style=\"padding-left: 1em; padding-right: 1em; text-align: center; vertical-align: top\">9.0</td>\n",
              "        <td style=\"padding-left: 1em; padding-right: 1em; text-align: center; vertical-align: top\">3.0</td>\n",
              "        <td style=\"padding-left: 1em; padding-right: 1em; text-align: center; vertical-align: top\">7.07326971746</td>\n",
              "    </tr>\n",
              "    <tr>\n",
              "        <td style=\"padding-left: 1em; padding-right: 1em; text-align: center; vertical-align: top\">3.0</td>\n",
              "        <td style=\"padding-left: 1em; padding-right: 1em; text-align: center; vertical-align: top\">2.25</td>\n",
              "        <td style=\"padding-left: 1em; padding-right: 1em; text-align: center; vertical-align: top\">47.72102274</td>\n",
              "        <td style=\"padding-left: 1em; padding-right: 1em; text-align: center; vertical-align: top\">-122.3188624</td>\n",
              "        <td style=\"padding-left: 1em; padding-right: 1em; text-align: center; vertical-align: top\">9.0</td>\n",
              "        <td style=\"padding-left: 1em; padding-right: 1em; text-align: center; vertical-align: top\">6.75</td>\n",
              "        <td style=\"padding-left: 1em; padding-right: 1em; text-align: center; vertical-align: top\">7.85166117789</td>\n",
              "    </tr>\n",
              "    <tr>\n",
              "        <td style=\"padding-left: 1em; padding-right: 1em; text-align: center; vertical-align: top\">2.0</td>\n",
              "        <td style=\"padding-left: 1em; padding-right: 1em; text-align: center; vertical-align: top\">1.0</td>\n",
              "        <td style=\"padding-left: 1em; padding-right: 1em; text-align: center; vertical-align: top\">47.73792661</td>\n",
              "        <td style=\"padding-left: 1em; padding-right: 1em; text-align: center; vertical-align: top\">-122.23319601</td>\n",
              "        <td style=\"padding-left: 1em; padding-right: 1em; text-align: center; vertical-align: top\">4.0</td>\n",
              "        <td style=\"padding-left: 1em; padding-right: 1em; text-align: center; vertical-align: top\">2.0</td>\n",
              "        <td style=\"padding-left: 1em; padding-right: 1em; text-align: center; vertical-align: top\">6.64639051485</td>\n",
              "    </tr>\n",
              "    <tr>\n",
              "        <td style=\"padding-left: 1em; padding-right: 1em; text-align: center; vertical-align: top\">4.0</td>\n",
              "        <td style=\"padding-left: 1em; padding-right: 1em; text-align: center; vertical-align: top\">3.0</td>\n",
              "        <td style=\"padding-left: 1em; padding-right: 1em; text-align: center; vertical-align: top\">47.52082</td>\n",
              "        <td style=\"padding-left: 1em; padding-right: 1em; text-align: center; vertical-align: top\">-122.39318505</td>\n",
              "        <td style=\"padding-left: 1em; padding-right: 1em; text-align: center; vertical-align: top\">16.0</td>\n",
              "        <td style=\"padding-left: 1em; padding-right: 1em; text-align: center; vertical-align: top\">12.0</td>\n",
              "        <td style=\"padding-left: 1em; padding-right: 1em; text-align: center; vertical-align: top\">7.58069975222</td>\n",
              "    </tr>\n",
              "    <tr>\n",
              "        <td style=\"padding-left: 1em; padding-right: 1em; text-align: center; vertical-align: top\">3.0</td>\n",
              "        <td style=\"padding-left: 1em; padding-right: 1em; text-align: center; vertical-align: top\">2.0</td>\n",
              "        <td style=\"padding-left: 1em; padding-right: 1em; text-align: center; vertical-align: top\">47.61681228</td>\n",
              "        <td style=\"padding-left: 1em; padding-right: 1em; text-align: center; vertical-align: top\">-122.04490059</td>\n",
              "        <td style=\"padding-left: 1em; padding-right: 1em; text-align: center; vertical-align: top\">9.0</td>\n",
              "        <td style=\"padding-left: 1em; padding-right: 1em; text-align: center; vertical-align: top\">6.0</td>\n",
              "        <td style=\"padding-left: 1em; padding-right: 1em; text-align: center; vertical-align: top\">7.4265490724</td>\n",
              "    </tr>\n",
              "    <tr>\n",
              "        <td style=\"padding-left: 1em; padding-right: 1em; text-align: center; vertical-align: top\">4.0</td>\n",
              "        <td style=\"padding-left: 1em; padding-right: 1em; text-align: center; vertical-align: top\">4.5</td>\n",
              "        <td style=\"padding-left: 1em; padding-right: 1em; text-align: center; vertical-align: top\">47.65611835</td>\n",
              "        <td style=\"padding-left: 1em; padding-right: 1em; text-align: center; vertical-align: top\">-122.00528655</td>\n",
              "        <td style=\"padding-left: 1em; padding-right: 1em; text-align: center; vertical-align: top\">16.0</td>\n",
              "        <td style=\"padding-left: 1em; padding-right: 1em; text-align: center; vertical-align: top\">18.0</td>\n",
              "        <td style=\"padding-left: 1em; padding-right: 1em; text-align: center; vertical-align: top\">8.59785109443</td>\n",
              "    </tr>\n",
              "    <tr>\n",
              "        <td style=\"padding-left: 1em; padding-right: 1em; text-align: center; vertical-align: top\">3.0</td>\n",
              "        <td style=\"padding-left: 1em; padding-right: 1em; text-align: center; vertical-align: top\">2.25</td>\n",
              "        <td style=\"padding-left: 1em; padding-right: 1em; text-align: center; vertical-align: top\">47.30972002</td>\n",
              "        <td style=\"padding-left: 1em; padding-right: 1em; text-align: center; vertical-align: top\">-122.32704857</td>\n",
              "        <td style=\"padding-left: 1em; padding-right: 1em; text-align: center; vertical-align: top\">9.0</td>\n",
              "        <td style=\"padding-left: 1em; padding-right: 1em; text-align: center; vertical-align: top\">6.75</td>\n",
              "        <td style=\"padding-left: 1em; padding-right: 1em; text-align: center; vertical-align: top\">7.4471683596</td>\n",
              "    </tr>\n",
              "    <tr>\n",
              "        <td style=\"padding-left: 1em; padding-right: 1em; text-align: center; vertical-align: top\">3.0</td>\n",
              "        <td style=\"padding-left: 1em; padding-right: 1em; text-align: center; vertical-align: top\">1.5</td>\n",
              "        <td style=\"padding-left: 1em; padding-right: 1em; text-align: center; vertical-align: top\">47.40949984</td>\n",
              "        <td style=\"padding-left: 1em; padding-right: 1em; text-align: center; vertical-align: top\">-122.31457273</td>\n",
              "        <td style=\"padding-left: 1em; padding-right: 1em; text-align: center; vertical-align: top\">9.0</td>\n",
              "        <td style=\"padding-left: 1em; padding-right: 1em; text-align: center; vertical-align: top\">4.5</td>\n",
              "        <td style=\"padding-left: 1em; padding-right: 1em; text-align: center; vertical-align: top\">6.96602418711</td>\n",
              "    </tr>\n",
              "    <tr>\n",
              "        <td style=\"padding-left: 1em; padding-right: 1em; text-align: center; vertical-align: top\">3.0</td>\n",
              "        <td style=\"padding-left: 1em; padding-right: 1em; text-align: center; vertical-align: top\">1.0</td>\n",
              "        <td style=\"padding-left: 1em; padding-right: 1em; text-align: center; vertical-align: top\">47.51229381</td>\n",
              "        <td style=\"padding-left: 1em; padding-right: 1em; text-align: center; vertical-align: top\">-122.33659507</td>\n",
              "        <td style=\"padding-left: 1em; padding-right: 1em; text-align: center; vertical-align: top\">9.0</td>\n",
              "        <td style=\"padding-left: 1em; padding-right: 1em; text-align: center; vertical-align: top\">3.0</td>\n",
              "        <td style=\"padding-left: 1em; padding-right: 1em; text-align: center; vertical-align: top\">7.48436864329</td>\n",
              "    </tr>\n",
              "    <tr>\n",
              "        <td style=\"padding-left: 1em; padding-right: 1em; text-align: center; vertical-align: top\">3.0</td>\n",
              "        <td style=\"padding-left: 1em; padding-right: 1em; text-align: center; vertical-align: top\">2.5</td>\n",
              "        <td style=\"padding-left: 1em; padding-right: 1em; text-align: center; vertical-align: top\">47.36840673</td>\n",
              "        <td style=\"padding-left: 1em; padding-right: 1em; text-align: center; vertical-align: top\">-122.0308176</td>\n",
              "        <td style=\"padding-left: 1em; padding-right: 1em; text-align: center; vertical-align: top\">9.0</td>\n",
              "        <td style=\"padding-left: 1em; padding-right: 1em; text-align: center; vertical-align: top\">7.5</td>\n",
              "        <td style=\"padding-left: 1em; padding-right: 1em; text-align: center; vertical-align: top\">7.54433210805</td>\n",
              "    </tr>\n",
              "</table>\n",
              "<table frame=\"box\" rules=\"cols\">\n",
              "    <tr>\n",
              "        <th style=\"padding-left: 1em; padding-right: 1em; text-align: center\">lat_plus_long</th>\n",
              "    </tr>\n",
              "    <tr>\n",
              "        <td style=\"padding-left: 1em; padding-right: 1em; text-align: center; vertical-align: top\">-74.74554138</td>\n",
              "    </tr>\n",
              "    <tr>\n",
              "        <td style=\"padding-left: 1em; padding-right: 1em; text-align: center; vertical-align: top\">-74.59783966</td>\n",
              "    </tr>\n",
              "    <tr>\n",
              "        <td style=\"padding-left: 1em; padding-right: 1em; text-align: center; vertical-align: top\">-74.4952694</td>\n",
              "    </tr>\n",
              "    <tr>\n",
              "        <td style=\"padding-left: 1em; padding-right: 1em; text-align: center; vertical-align: top\">-74.87236505</td>\n",
              "    </tr>\n",
              "    <tr>\n",
              "        <td style=\"padding-left: 1em; padding-right: 1em; text-align: center; vertical-align: top\">-74.42808831</td>\n",
              "    </tr>\n",
              "    <tr>\n",
              "        <td style=\"padding-left: 1em; padding-right: 1em; text-align: center; vertical-align: top\">-74.3491682</td>\n",
              "    </tr>\n",
              "    <tr>\n",
              "        <td style=\"padding-left: 1em; padding-right: 1em; text-align: center; vertical-align: top\">-75.01732855</td>\n",
              "    </tr>\n",
              "    <tr>\n",
              "        <td style=\"padding-left: 1em; padding-right: 1em; text-align: center; vertical-align: top\">-74.90507289</td>\n",
              "    </tr>\n",
              "    <tr>\n",
              "        <td style=\"padding-left: 1em; padding-right: 1em; text-align: center; vertical-align: top\">-74.82430126</td>\n",
              "    </tr>\n",
              "    <tr>\n",
              "        <td style=\"padding-left: 1em; padding-right: 1em; text-align: center; vertical-align: top\">-74.66241087</td>\n",
              "    </tr>\n",
              "</table>\n",
              "[10 rows x 8 columns]<br/>\n",
              "</div>"
            ]
          },
          "metadata": {
            "tags": []
          },
          "execution_count": 13
        }
      ]
    },
    {
      "cell_type": "markdown",
      "metadata": {
        "id": "9ElDmpzvMSiW"
      },
      "source": [
        "# Learning Multiple Models"
      ]
    },
    {
      "cell_type": "markdown",
      "metadata": {
        "id": "77Ye_gX2MSiX"
      },
      "source": [
        "We will learn the weights for three (nested) models for predicting house prices. The first model will have the fewest features the second model will add one more feature and the third will add a few more:\n",
        "* Model 1: squarefeet, # bedrooms, # bathrooms, latitude & longitude\n",
        "* Model 2: add bedrooms\\*bathrooms\n",
        "* Model 3: Add log squarefeet, bedrooms squared, and the (nonsensical) latitude + longitude"
      ]
    },
    {
      "cell_type": "code",
      "metadata": {
        "id": "c4eNMSNMMSiY"
      },
      "source": [
        "model_1_features = ['sqft_living', 'bedrooms', 'bathrooms', 'lat', 'long']\n",
        "model_2_features = model_1_features + ['bed_bath_rooms']\n",
        "model_3_features = model_2_features + ['bedrooms_squared', 'log_sqft_living', 'lat_plus_long']"
      ],
      "execution_count": null,
      "outputs": []
    },
    {
      "cell_type": "markdown",
      "metadata": {
        "id": "y9AkepDcMSiZ"
      },
      "source": [
        "Now that we have the features, learn the weights for the three different models for predicting target = 'price' using turicreate.linear_regression.create() and look at the value of the weights/coefficients:"
      ]
    },
    {
      "cell_type": "code",
      "metadata": {
        "colab": {
          "base_uri": "https://localhost:8080/",
          "height": 773
        },
        "id": "6xFlNWVDMSiZ",
        "outputId": "affc0286-38a7-4d3d-fc6f-4c83411428ef"
      },
      "source": [
        "# Learn the three models: (don't forget to set validation_set = None)\n",
        "model_1 = tc.linear_regression.create(train_data, target='price',features=model_1_features, validation_set=None)\n",
        "model_2 = tc.linear_regression.create(train_data, target='price',features=model_2_features, validation_set=None)\n",
        "model_3 = tc.linear_regression.create(train_data, target='price',features=model_3_features, validation_set=None)"
      ],
      "execution_count": null,
      "outputs": [
        {
          "output_type": "display_data",
          "data": {
            "text/plain": [
              "Linear regression:"
            ],
            "text/html": [
              "<pre>Linear regression:</pre>"
            ]
          },
          "metadata": {
            "tags": []
          }
        },
        {
          "output_type": "display_data",
          "data": {
            "text/plain": [
              "--------------------------------------------------------"
            ],
            "text/html": [
              "<pre>--------------------------------------------------------</pre>"
            ]
          },
          "metadata": {
            "tags": []
          }
        },
        {
          "output_type": "display_data",
          "data": {
            "text/plain": [
              "Number of examples          : 17384"
            ],
            "text/html": [
              "<pre>Number of examples          : 17384</pre>"
            ]
          },
          "metadata": {
            "tags": []
          }
        },
        {
          "output_type": "display_data",
          "data": {
            "text/plain": [
              "Number of features          : 5"
            ],
            "text/html": [
              "<pre>Number of features          : 5</pre>"
            ]
          },
          "metadata": {
            "tags": []
          }
        },
        {
          "output_type": "display_data",
          "data": {
            "text/plain": [
              "Number of unpacked features : 5"
            ],
            "text/html": [
              "<pre>Number of unpacked features : 5</pre>"
            ]
          },
          "metadata": {
            "tags": []
          }
        },
        {
          "output_type": "display_data",
          "data": {
            "text/plain": [
              "Number of coefficients    : 6"
            ],
            "text/html": [
              "<pre>Number of coefficients    : 6</pre>"
            ]
          },
          "metadata": {
            "tags": []
          }
        },
        {
          "output_type": "display_data",
          "data": {
            "text/plain": [
              "Starting Newton Method"
            ],
            "text/html": [
              "<pre>Starting Newton Method</pre>"
            ]
          },
          "metadata": {
            "tags": []
          }
        },
        {
          "output_type": "display_data",
          "data": {
            "text/plain": [
              "--------------------------------------------------------"
            ],
            "text/html": [
              "<pre>--------------------------------------------------------</pre>"
            ]
          },
          "metadata": {
            "tags": []
          }
        },
        {
          "output_type": "display_data",
          "data": {
            "text/plain": [
              "+-----------+----------+--------------+--------------------+---------------------------------+"
            ],
            "text/html": [
              "<pre>+-----------+----------+--------------+--------------------+---------------------------------+</pre>"
            ]
          },
          "metadata": {
            "tags": []
          }
        },
        {
          "output_type": "display_data",
          "data": {
            "text/plain": [
              "| Iteration | Passes   | Elapsed Time | Training Max Error | Training Root-Mean-Square Error |"
            ],
            "text/html": [
              "<pre>| Iteration | Passes   | Elapsed Time | Training Max Error | Training Root-Mean-Square Error |</pre>"
            ]
          },
          "metadata": {
            "tags": []
          }
        },
        {
          "output_type": "display_data",
          "data": {
            "text/plain": [
              "+-----------+----------+--------------+--------------------+---------------------------------+"
            ],
            "text/html": [
              "<pre>+-----------+----------+--------------+--------------------+---------------------------------+</pre>"
            ]
          },
          "metadata": {
            "tags": []
          }
        },
        {
          "output_type": "display_data",
          "data": {
            "text/plain": [
              "| 1         | 2        | 0.014767     | 4074878.213103     | 236378.596455                   |"
            ],
            "text/html": [
              "<pre>| 1         | 2        | 0.014767     | 4074878.213103     | 236378.596455                   |</pre>"
            ]
          },
          "metadata": {
            "tags": []
          }
        },
        {
          "output_type": "display_data",
          "data": {
            "text/plain": [
              "| 2         | 3        | 0.033275     | 4074878.213108     | 236378.596455                   |"
            ],
            "text/html": [
              "<pre>| 2         | 3        | 0.033275     | 4074878.213108     | 236378.596455                   |</pre>"
            ]
          },
          "metadata": {
            "tags": []
          }
        },
        {
          "output_type": "display_data",
          "data": {
            "text/plain": [
              "+-----------+----------+--------------+--------------------+---------------------------------+"
            ],
            "text/html": [
              "<pre>+-----------+----------+--------------+--------------------+---------------------------------+</pre>"
            ]
          },
          "metadata": {
            "tags": []
          }
        },
        {
          "output_type": "display_data",
          "data": {
            "text/plain": [
              "SUCCESS: Optimal solution found."
            ],
            "text/html": [
              "<pre>SUCCESS: Optimal solution found.</pre>"
            ]
          },
          "metadata": {
            "tags": []
          }
        },
        {
          "output_type": "display_data",
          "data": {
            "text/plain": [
              ""
            ],
            "text/html": [
              "<pre></pre>"
            ]
          },
          "metadata": {
            "tags": []
          }
        },
        {
          "output_type": "display_data",
          "data": {
            "text/plain": [
              "Linear regression:"
            ],
            "text/html": [
              "<pre>Linear regression:</pre>"
            ]
          },
          "metadata": {
            "tags": []
          }
        },
        {
          "output_type": "display_data",
          "data": {
            "text/plain": [
              "--------------------------------------------------------"
            ],
            "text/html": [
              "<pre>--------------------------------------------------------</pre>"
            ]
          },
          "metadata": {
            "tags": []
          }
        },
        {
          "output_type": "display_data",
          "data": {
            "text/plain": [
              "Number of examples          : 17384"
            ],
            "text/html": [
              "<pre>Number of examples          : 17384</pre>"
            ]
          },
          "metadata": {
            "tags": []
          }
        },
        {
          "output_type": "display_data",
          "data": {
            "text/plain": [
              "Number of features          : 6"
            ],
            "text/html": [
              "<pre>Number of features          : 6</pre>"
            ]
          },
          "metadata": {
            "tags": []
          }
        },
        {
          "output_type": "display_data",
          "data": {
            "text/plain": [
              "Number of unpacked features : 6"
            ],
            "text/html": [
              "<pre>Number of unpacked features : 6</pre>"
            ]
          },
          "metadata": {
            "tags": []
          }
        },
        {
          "output_type": "display_data",
          "data": {
            "text/plain": [
              "Number of coefficients    : 7"
            ],
            "text/html": [
              "<pre>Number of coefficients    : 7</pre>"
            ]
          },
          "metadata": {
            "tags": []
          }
        },
        {
          "output_type": "display_data",
          "data": {
            "text/plain": [
              "Starting Newton Method"
            ],
            "text/html": [
              "<pre>Starting Newton Method</pre>"
            ]
          },
          "metadata": {
            "tags": []
          }
        },
        {
          "output_type": "display_data",
          "data": {
            "text/plain": [
              "--------------------------------------------------------"
            ],
            "text/html": [
              "<pre>--------------------------------------------------------</pre>"
            ]
          },
          "metadata": {
            "tags": []
          }
        },
        {
          "output_type": "display_data",
          "data": {
            "text/plain": [
              "+-----------+----------+--------------+--------------------+---------------------------------+"
            ],
            "text/html": [
              "<pre>+-----------+----------+--------------+--------------------+---------------------------------+</pre>"
            ]
          },
          "metadata": {
            "tags": []
          }
        },
        {
          "output_type": "display_data",
          "data": {
            "text/plain": [
              "| Iteration | Passes   | Elapsed Time | Training Max Error | Training Root-Mean-Square Error |"
            ],
            "text/html": [
              "<pre>| Iteration | Passes   | Elapsed Time | Training Max Error | Training Root-Mean-Square Error |</pre>"
            ]
          },
          "metadata": {
            "tags": []
          }
        },
        {
          "output_type": "display_data",
          "data": {
            "text/plain": [
              "+-----------+----------+--------------+--------------------+---------------------------------+"
            ],
            "text/html": [
              "<pre>+-----------+----------+--------------+--------------------+---------------------------------+</pre>"
            ]
          },
          "metadata": {
            "tags": []
          }
        },
        {
          "output_type": "display_data",
          "data": {
            "text/plain": [
              "| 1         | 2        | 0.015183     | 4014170.932940     | 235190.935428                   |"
            ],
            "text/html": [
              "<pre>| 1         | 2        | 0.015183     | 4014170.932940     | 235190.935428                   |</pre>"
            ]
          },
          "metadata": {
            "tags": []
          }
        },
        {
          "output_type": "display_data",
          "data": {
            "text/plain": [
              "| 2         | 3        | 0.040520     | 4014170.932936     | 235190.935429                   |"
            ],
            "text/html": [
              "<pre>| 2         | 3        | 0.040520     | 4014170.932936     | 235190.935429                   |</pre>"
            ]
          },
          "metadata": {
            "tags": []
          }
        },
        {
          "output_type": "display_data",
          "data": {
            "text/plain": [
              "+-----------+----------+--------------+--------------------+---------------------------------+"
            ],
            "text/html": [
              "<pre>+-----------+----------+--------------+--------------------+---------------------------------+</pre>"
            ]
          },
          "metadata": {
            "tags": []
          }
        },
        {
          "output_type": "display_data",
          "data": {
            "text/plain": [
              "SUCCESS: Optimal solution found."
            ],
            "text/html": [
              "<pre>SUCCESS: Optimal solution found.</pre>"
            ]
          },
          "metadata": {
            "tags": []
          }
        },
        {
          "output_type": "display_data",
          "data": {
            "text/plain": [
              ""
            ],
            "text/html": [
              "<pre></pre>"
            ]
          },
          "metadata": {
            "tags": []
          }
        },
        {
          "output_type": "display_data",
          "data": {
            "text/plain": [
              "Linear regression:"
            ],
            "text/html": [
              "<pre>Linear regression:</pre>"
            ]
          },
          "metadata": {
            "tags": []
          }
        },
        {
          "output_type": "display_data",
          "data": {
            "text/plain": [
              "--------------------------------------------------------"
            ],
            "text/html": [
              "<pre>--------------------------------------------------------</pre>"
            ]
          },
          "metadata": {
            "tags": []
          }
        },
        {
          "output_type": "display_data",
          "data": {
            "text/plain": [
              "Number of examples          : 17384"
            ],
            "text/html": [
              "<pre>Number of examples          : 17384</pre>"
            ]
          },
          "metadata": {
            "tags": []
          }
        },
        {
          "output_type": "display_data",
          "data": {
            "text/plain": [
              "Number of features          : 9"
            ],
            "text/html": [
              "<pre>Number of features          : 9</pre>"
            ]
          },
          "metadata": {
            "tags": []
          }
        },
        {
          "output_type": "display_data",
          "data": {
            "text/plain": [
              "Number of unpacked features : 9"
            ],
            "text/html": [
              "<pre>Number of unpacked features : 9</pre>"
            ]
          },
          "metadata": {
            "tags": []
          }
        },
        {
          "output_type": "display_data",
          "data": {
            "text/plain": [
              "Number of coefficients    : 10"
            ],
            "text/html": [
              "<pre>Number of coefficients    : 10</pre>"
            ]
          },
          "metadata": {
            "tags": []
          }
        },
        {
          "output_type": "display_data",
          "data": {
            "text/plain": [
              "Starting Newton Method"
            ],
            "text/html": [
              "<pre>Starting Newton Method</pre>"
            ]
          },
          "metadata": {
            "tags": []
          }
        },
        {
          "output_type": "display_data",
          "data": {
            "text/plain": [
              "--------------------------------------------------------"
            ],
            "text/html": [
              "<pre>--------------------------------------------------------</pre>"
            ]
          },
          "metadata": {
            "tags": []
          }
        },
        {
          "output_type": "display_data",
          "data": {
            "text/plain": [
              "+-----------+----------+--------------+--------------------+---------------------------------+"
            ],
            "text/html": [
              "<pre>+-----------+----------+--------------+--------------------+---------------------------------+</pre>"
            ]
          },
          "metadata": {
            "tags": []
          }
        },
        {
          "output_type": "display_data",
          "data": {
            "text/plain": [
              "| Iteration | Passes   | Elapsed Time | Training Max Error | Training Root-Mean-Square Error |"
            ],
            "text/html": [
              "<pre>| Iteration | Passes   | Elapsed Time | Training Max Error | Training Root-Mean-Square Error |</pre>"
            ]
          },
          "metadata": {
            "tags": []
          }
        },
        {
          "output_type": "display_data",
          "data": {
            "text/plain": [
              "+-----------+----------+--------------+--------------------+---------------------------------+"
            ],
            "text/html": [
              "<pre>+-----------+----------+--------------+--------------------+---------------------------------+</pre>"
            ]
          },
          "metadata": {
            "tags": []
          }
        },
        {
          "output_type": "display_data",
          "data": {
            "text/plain": [
              "| 1         | 2        | 0.042799     | 3193229.177888     | 228200.043155                   |"
            ],
            "text/html": [
              "<pre>| 1         | 2        | 0.042799     | 3193229.177888     | 228200.043155                   |</pre>"
            ]
          },
          "metadata": {
            "tags": []
          }
        },
        {
          "output_type": "display_data",
          "data": {
            "text/plain": [
              "| 2         | 3        | 0.066577     | 3193229.177873     | 228200.043155                   |"
            ],
            "text/html": [
              "<pre>| 2         | 3        | 0.066577     | 3193229.177873     | 228200.043155                   |</pre>"
            ]
          },
          "metadata": {
            "tags": []
          }
        },
        {
          "output_type": "display_data",
          "data": {
            "text/plain": [
              "+-----------+----------+--------------+--------------------+---------------------------------+"
            ],
            "text/html": [
              "<pre>+-----------+----------+--------------+--------------------+---------------------------------+</pre>"
            ]
          },
          "metadata": {
            "tags": []
          }
        },
        {
          "output_type": "display_data",
          "data": {
            "text/plain": [
              "SUCCESS: Optimal solution found."
            ],
            "text/html": [
              "<pre>SUCCESS: Optimal solution found.</pre>"
            ]
          },
          "metadata": {
            "tags": []
          }
        },
        {
          "output_type": "display_data",
          "data": {
            "text/plain": [
              ""
            ],
            "text/html": [
              "<pre></pre>"
            ]
          },
          "metadata": {
            "tags": []
          }
        }
      ]
    },
    {
      "cell_type": "code",
      "metadata": {
        "colab": {
          "base_uri": "https://localhost:8080/"
        },
        "id": "OB3Y2unAMSib",
        "outputId": "fed5dfdc-c884-4151-ea9b-386d8a0dfa04"
      },
      "source": [
        "# Examine/extract each model's coefficients:\n",
        "model_1_weight_summary = model_1.coefficients\n",
        "model_2_weight_summary = model_2.coefficients\n",
        "model_3_weight_summary = model_3.coefficients\n",
        "print (model_1_weight_summary) \n",
        "print (model_2_weight_summary)\n",
        "print (model_3_weight_summary)"
      ],
      "execution_count": null,
      "outputs": [
        {
          "output_type": "stream",
          "text": [
            "+-------------+-------+----------------+---------------+\n",
            "|     name    | index |     value      |     stderr    |\n",
            "+-------------+-------+----------------+---------------+\n",
            "| (intercept) |  None | -56140675.7411 | 1649985.42023 |\n",
            "| sqft_living |  None | 310.263325777  | 3.18882960407 |\n",
            "|   bedrooms  |  None | -59577.1160676 | 2487.27977322 |\n",
            "|  bathrooms  |  None | 13811.8405417  | 3593.54213297 |\n",
            "|     lat     |  None | 629865.789471  | 13120.7100323 |\n",
            "|     long    |  None | -214790.285165 | 13284.2851599 |\n",
            "+-------------+-------+----------------+---------------+\n",
            "[6 rows x 4 columns]\n",
            "\n",
            "+----------------+-------+----------------+---------------+\n",
            "|      name      | index |     value      |     stderr    |\n",
            "+----------------+-------+----------------+---------------+\n",
            "|  (intercept)   |  None | -54410676.1118 | 1650405.16537 |\n",
            "|  sqft_living   |  None | 304.449298056  | 3.20217535637 |\n",
            "|    bedrooms    |  None | -116366.043229 | 4805.54966548 |\n",
            "|   bathrooms    |  None | -77972.330513  | 7565.05991095 |\n",
            "|      lat       |  None |  625433.83494  | 13058.3530972 |\n",
            "|      long      |  None | -203958.602937 | 13268.1283704 |\n",
            "| bed_bath_rooms |  None |  26961.624909  | 1956.36561556 |\n",
            "+----------------+-------+----------------+---------------+\n",
            "[7 rows x 4 columns]\n",
            "\n",
            "+------------------+-------+----------------+---------------+\n",
            "|       name       | index |     value      |     stderr    |\n",
            "+------------------+-------+----------------+---------------+\n",
            "|   (intercept)    |  None | -52974974.0689 | 1615194.94467 |\n",
            "|   sqft_living    |  None | 529.196420569  | 7.69913498512 |\n",
            "|     bedrooms     |  None | 28948.5277464  | 9395.72889115 |\n",
            "|    bathrooms     |  None | 65661.2072397  | 10795.3380703 |\n",
            "|       lat        |  None | 704762.148443  | 787087632.007 |\n",
            "|       long       |  None | -137780.020007 | 787087632.297 |\n",
            "|  bed_bath_rooms  |  None | -8478.36410717 | 2858.95391257 |\n",
            "| bedrooms_squared |  None | -6072.38466191 | 1494.97042779 |\n",
            "| log_sqft_living  |  None | -563467.78428  | 17567.8230815 |\n",
            "|  lat_plus_long   |  None |  -83217.19791  | 787087631.989 |\n",
            "+------------------+-------+----------------+---------------+\n",
            "[10 rows x 4 columns]\n",
            "\n"
          ],
          "name": "stdout"
        }
      ]
    },
    {
      "cell_type": "markdown",
      "metadata": {
        "id": "gvBJNXFEMSic"
      },
      "source": [
        "What is the sign (positive or negative) for the coefficient/weight for 'bathrooms' in model 1 and model 2? Why?\n",
        "\n"
      ]
    },
    {
      "cell_type": "markdown",
      "metadata": {
        "id": "mWawC4u0MSic"
      },
      "source": [
        "# Comparing multiple models\n",
        "\n"
      ]
    },
    {
      "cell_type": "code",
      "metadata": {
        "colab": {
          "base_uri": "https://localhost:8080/"
        },
        "id": "KMO0VW0OMSid",
        "outputId": "8dea7b99-05fa-46f6-ac14-79a3fa2f56d3"
      },
      "source": [
        "# Compute the RSS on TRAINING data for each of the three models and record the values:\n",
        "rss_model_1_train = get_residual_sum_of_squares(model_1, train_data, train_data['price'])\n",
        "rss_model_2_train = get_residual_sum_of_squares(model_2, train_data, train_data['price'])\n",
        "rss_model_3_train = get_residual_sum_of_squares(model_3, train_data, train_data['price'])\n",
        "print rss_model_1_train\n",
        "print rss_model_2_train\n",
        "print rss_model_3_train"
      ],
      "execution_count": null,
      "outputs": [
        {
          "output_type": "stream",
          "text": [
            "9.71328233545e+14\n",
            "9.61592067858e+14\n",
            "9.05276314552e+14\n"
          ],
          "name": "stdout"
        }
      ]
    },
    {
      "cell_type": "markdown",
      "metadata": {
        "id": "pe4TJsPQMSie"
      },
      "source": [
        "Now compute the RSS on on TEST data for each of the three models."
      ]
    },
    {
      "cell_type": "code",
      "metadata": {
        "colab": {
          "base_uri": "https://localhost:8080/"
        },
        "id": "9h_OtsNcMSie",
        "outputId": "7617fcb3-9e0d-4641-9311-515cce54c60a"
      },
      "source": [
        "# Compute the RSS on TESTING data for each of the three models and record the values:\n",
        "rss_model_1_test = get_residual_sum_of_squares(model_1, test_data, test_data['price'])\n",
        "rss_model_2_test = get_residual_sum_of_squares(model_2, test_data, test_data['price'])\n",
        "rss_model_3_test = get_residual_sum_of_squares(model_3, test_data, test_data['price'])\n",
        "print rss_model_1_test\n",
        "print rss_model_2_test\n",
        "print rss_model_3_test"
      ],
      "execution_count": null,
      "outputs": [
        {
          "output_type": "stream",
          "text": [
            "2.26568089093e+14\n",
            "2.24368799994e+14\n",
            "2.51829318963e+14\n"
          ],
          "name": "stdout"
        }
      ]
    }
  ]
}